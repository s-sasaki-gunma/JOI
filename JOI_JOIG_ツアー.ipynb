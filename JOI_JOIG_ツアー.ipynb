{
  "nbformat": 4,
  "nbformat_minor": 0,
  "metadata": {
    "colab": {
      "provenance": [],
      "authorship_tag": "ABX9TyObTWJO9QUTUH6d6hfDd4MB",
      "include_colab_link": true
    },
    "kernelspec": {
      "name": "python3",
      "display_name": "Python 3"
    },
    "language_info": {
      "name": "python"
    }
  },
  "cells": [
    {
      "cell_type": "markdown",
      "metadata": {
        "id": "view-in-github",
        "colab_type": "text"
      },
      "source": [
        "<a href=\"https://colab.research.google.com/github/s-sasaki-gunma/JOI/blob/main/JOI_JOIG_%E3%83%84%E3%82%A2%E3%83%BC.ipynb\" target=\"_parent\"><img src=\"https://colab.research.google.com/assets/colab-badge.svg\" alt=\"Open In Colab\"/></a>"
      ]
    },
    {
      "cell_type": "markdown",
      "source": [
        "# JOIG ツアー (JOIG Tour)\n",
        "\n",
        "　日本情報オリンピック 第2回女性部門 競技1 問題２\n",
        "\n",
        "- <a href=\"https://atcoder.jp/contests/joigsc2022/tasks/joigsc2022_b\" target=\"_blank\">問題（AtCoder）</a>\n",
        "- <a href=\"https://www.ioi-jp.org/joig-camp/2022/2022-sp-tasks/index.html\" target=\"_blank\">解説（JOI公式サイト）</a>"
      ],
      "metadata": {
        "id": "uadXNRqlB0ty"
      }
    },
    {
      "cell_type": "markdown",
      "source": [
        "## 必要な知識\n",
        "- 配列の基本操作\n",
        "- bitシフト演算\n",
        "- 二分探索木（ <a href=\"http://www.nct9.ne.jp/m_hiroi/light/pyalgo03.html\" target=\"_blank\">Pythonコードの参考</a> , <a href=\"https://www.youtube.com/watch?v=6FETCw6ikgw\" target=\"_blank\">アルゴリズムの参考</a>）"
      ],
      "metadata": {
        "id": "_f4Pi4yKCrmi"
      }
    },
    {
      "cell_type": "markdown",
      "source": [
        "### 配列の基本操作\n",
        "\n",
        "　index()メソッドは、配列の中から特定の値を探して一番最初に出てくる位置を整数で返す"
      ],
      "metadata": {
        "id": "WnA7OR-TeE6a"
      }
    },
    {
      "cell_type": "code",
      "source": [
        "# 文字列 \"JOIG\" のなかで \"I\" は何番目か\n",
        "\"JOIG\".index(\"I\")"
      ],
      "metadata": {
        "id": "U_qHMywjyFiw"
      },
      "execution_count": null,
      "outputs": []
    },
    {
      "cell_type": "markdown",
      "source": [
        "### bit演算\n",
        "\n",
        "　数値を機械語レベルで直接操作  \n",
        "　例）1 << 3 は 1 を 3 bit ずらす計算"
      ],
      "metadata": {
        "id": "A4oUa-2gzJ0_"
      }
    },
    {
      "cell_type": "code",
      "source": [
        "for i in range(4):\n",
        "    print(1,\"<<\",i,\"\\t=\",1<<i,\"\\t\",bin(1<<i))\n",
        "print(\"\")\n",
        "for i in range(4):\n",
        "    print(5,\"<<\",i,\"\\t=\",5<<i,\"\\t\",bin(5<<i))"
      ],
      "metadata": {
        "id": "VAwtBZ6Dzyf_"
      },
      "execution_count": null,
      "outputs": []
    },
    {
      "cell_type": "markdown",
      "source": [
        "# 模範解答"
      ],
      "metadata": {
        "id": "UnqRPHT6r9YM"
      }
    },
    {
      "cell_type": "code",
      "source": [
        "# 入力例1\n",
        "N = 7\n",
        "A = [1,2,3,4,5,8,10]\n",
        "C = [\"J\",\"O\",\"G\",\"I\",\"O\",\"G\",\"J\"]\n",
        "Q = 2\n",
        "S = [3,7]\n",
        "T = [2,5]"
      ],
      "metadata": {
        "id": "ShiPaDxcxuWm"
      },
      "execution_count": null,
      "outputs": []
    },
    {
      "cell_type": "code",
      "source": [
        "# 入力例2\n",
        "N = 10\n",
        "A = [5,7,10,11,12,13,17,18,19,20]\n",
        "C = \"JOJGJIJJJJ\"\n",
        "Q = 4\n",
        "S = [4,15,6,7]\n",
        "T = [9,14,20,20]"
      ],
      "metadata": {
        "id": "qlUDtXYUxr4o"
      },
      "execution_count": null,
      "outputs": []
    },
    {
      "cell_type": "code",
      "execution_count": null,
      "metadata": {
        "id": "FswdL83VBtf2"
      },
      "outputs": [],
      "source": [
        "# 探索したい値以上の配列の番地を返す\n",
        "def lower_bound(v, p):\n",
        "    l = 0\n",
        "    while( v[l] <= p and l < len(v)-1 ):\n",
        "        l += 1\n",
        "    return l\n",
        "\n",
        "def query(s, t):\n",
        "    ans = 2**31-1\n",
        "    for i in range(16):\n",
        "        d = 0\n",
        "        p = s\n",
        "        for j in range(4):\n",
        "            it = lower_bound(V[j], p)\n",
        "            if ( it == len(V[j])+1 ):\n",
        "                it = it - 1\n",
        "            if ( V[j][it] != V[j][0] ):\n",
        "                it = it - 1\n",
        "            d += abs(p - V[j][it])\n",
        "            p = V[j][it]\n",
        "        d += abs(p - t)\n",
        "        ans = min(ans, d)\n",
        "    return ans\n",
        "\n",
        "N = int( input() )\n",
        "A,C=[],[]\n",
        "for _ in range(N):\n",
        "    aa, cc = input().split()\n",
        "    A.append( int(aa) )\n",
        "    C.append(cc)\n",
        "\n",
        "Q = int( input() )\n",
        "S,T=[],[]\n",
        "for _ in range(Q):\n",
        "    ss, tt = input().split()\n",
        "    S.append(int(ss))\n",
        "    T.append(int(tt))\n",
        "\n",
        "V=[[],[],[],[]]\n",
        "for i in range(N):\n",
        "    V[\"JOIG\".index(C[i])].append(A[i])\n",
        "\n",
        "for i in range(Q):\n",
        "    print(query(S[i],T[i]))"
      ]
    },
    {
      "cell_type": "code",
      "source": [
        "def lower_bound(v, p):\n",
        "    l = 0\n",
        "    while( v[l] < p and l < len(v)-1 ):\n",
        "        l += 1\n",
        "    return l\n",
        "\n",
        "def query(s, t):\n",
        "    ans = 2**31-1\n",
        "    for i in range(16):\n",
        "        d = 0\n",
        "        p = s\n",
        "        for j in range(4):\n",
        "            it = lower_bound(V[j], p)\n",
        "            if ( i & (1 << j) ):\n",
        "                if ( it == len(V[j])+1 ):\n",
        "                    it = it - 1\n",
        "            else :\n",
        "                if ( V[j][it] != V[j][0] ):\n",
        "                    it = it - 1\n",
        "            d += abs(p - V[j][it])\n",
        "            p = V[j][it]\n",
        "        d += abs(p - t)\n",
        "        ans = min(ans, d)\n",
        "    return ans\n",
        "\n",
        "N = int( input() )\n",
        "A,C=[],[]\n",
        "for _ in range(N):\n",
        "    aa, cc = input().split()\n",
        "    A.append( int(aa) )\n",
        "    C.append(cc)\n",
        "\n",
        "Q = int( input() )\n",
        "S,T=[],[]\n",
        "for _ in range(Q):\n",
        "    ss, tt = input().split()\n",
        "    S.append(int(ss))\n",
        "    T.append(int(tt))\n",
        "\n",
        "V=[[],[],[],[]]\n",
        "for i in range(N):\n",
        "    V[\"JOIG\".index(C[i])].append(A[i])\n",
        "\n",
        "for i in range(Q):\n",
        "    print(query(S[i],T[i]))"
      ],
      "metadata": {
        "id": "p4-fiKWXJ3vz"
      },
      "execution_count": null,
      "outputs": []
    }
  ]
}