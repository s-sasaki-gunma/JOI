{
  "nbformat": 4,
  "nbformat_minor": 0,
  "metadata": {
    "colab": {
      "provenance": [],
      "authorship_tag": "ABX9TyMZg0EHIC4M+3wec/sCjbDC",
      "include_colab_link": true
    },
    "kernelspec": {
      "name": "python3",
      "display_name": "Python 3"
    },
    "language_info": {
      "name": "python"
    }
  },
  "cells": [
    {
      "cell_type": "markdown",
      "metadata": {
        "id": "view-in-github",
        "colab_type": "text"
      },
      "source": [
        "<a href=\"https://colab.research.google.com/github/s-sasaki-gunma/JOI/blob/main/JOI_%E3%82%A4%E3%83%99%E3%83%B3%E3%83%88%E5%B7%A1%E3%82%8A.ipynb\" target=\"_parent\"><img src=\"https://colab.research.google.com/assets/colab-badge.svg\" alt=\"Open In Colab\"/></a>"
      ]
    },
    {
      "cell_type": "markdown",
      "source": [
        "# イベント巡り (Event Hopping)\n",
        "\n",
        "　第20回日本情報オリンピック　二次予選　問題3\n",
        "\n",
        "- <a href=\"https://atcoder.jp/contests/joi2021yo2/tasks/joi2021_yo2_c\" target=\"_blank\">問題（AtCoder）</a>\n",
        "- <a href=\"https://www.ioi-jp.org/joi/2020/2021-yo2/index.html\" target=\"_blank\">解説（JOI公式サイト）</a>"
      ],
      "metadata": {
        "id": "hq8Vnr6fYSkj"
      }
    },
    {
      "cell_type": "markdown",
      "source": [
        "## 必要な知識"
      ],
      "metadata": {
        "id": "tXmvdnsse3G2"
      }
    },
    {
      "cell_type": "markdown",
      "source": [
        "### bit演算（XOR）\n",
        "\n",
        "　2つ値のbit列を比較して、どちか片方だけ1なら1、どちらも0またはどちらも1の場合は0を返します。  \n",
        "　0 と 1 を反転させるためによく使う。（if文よりも処理が軽い）\n",
        "\n",
        "```python\n",
        "c = a ^ b\n",
        "```"
      ],
      "metadata": {
        "id": "tVfqKcUafMb1"
      }
    },
    {
      "cell_type": "code",
      "source": [
        "a = 11110000\n",
        "b = 10101010\n",
        "c = a ^ b\n",
        "print(c)"
      ],
      "metadata": {
        "id": "TLr2pH1Sf503"
      },
      "execution_count": null,
      "outputs": []
    },
    {
      "cell_type": "markdown",
      "source": [
        "### 動的計画法\n",
        "\n",
        "- <a href=\"https://www.youtube.com/watch?v=gVJ16ThsJYs\" target=\"_blank\">アルゴリズム動画解説</a>\n",
        "- <a href=\"https://dai1741.github.io/maximum-algo-2012/docs/dynamic-programming/\" target=\"_blank\">アルゴリズム解説文</a>\n",
        "- <a href=\"https://kunassy.com/python_dp_bubunwa/\" target=\"_blank\">コーディングの参考</a>\n",
        "- <a href=\"https://algo-method.com/descriptions/44\" target=\"_blank\">アルゴ式（動的計画法）</a>"
      ],
      "metadata": {
        "id": "MKOQQueTf-4W"
      }
    },
    {
      "cell_type": "markdown",
      "source": [
        "# 模範解答"
      ],
      "metadata": {
        "id": "eFCReexTdqUo"
      }
    },
    {
      "cell_type": "code",
      "execution_count": null,
      "metadata": {
        "id": "A3dYdXYwX8wg"
      },
      "outputs": [],
      "source": [
        "N,D,K = map(int, input().split())\n",
        "PS = []\n",
        "for i in range(N):\n",
        "    PS.append( list(map(int, input().split())) )\n",
        "PS.sort(key=lambda x: x[1])\n",
        "dp = [[0]*N for _ in range(2)]\n",
        "now = [0,0]\n",
        "for i in range(N):\n",
        "    if i != 0:\n",
        "        for j in range(2):\n",
        "            dp[j][i] = max(dp[j][i], dp[j][i - 1])\n",
        "    cu = PS[i][0] - 1\n",
        "    op = cu ^ 1\n",
        "    dp[cu][i] += 1\n",
        "    while now[cu] < N and PS[now[cu]][1] < PS[i][1] + 1 + D + K * dp[cu][i] :\n",
        "        now[cu] += 1\n",
        "    if now[cu] < N :\n",
        "        dp[op][now[cu]] = max(dp[op][now[cu]], dp[cu][i])\n",
        "print(*dp, sep='\\n')\n",
        "print(max(dp[0][N-1], dp[1][N-1]))"
      ]
    },
    {
      "cell_type": "code",
      "source": [
        "# 入力例1\n",
        "N, D, K = 5, 3, 0\n",
        "PS=[\n",
        "    [1, 1],\n",
        "    [1, 2],\n",
        "    [1, 10],\n",
        "    [2, 5],\n",
        "    [2, 6],\n",
        "]\n",
        "print(N,D,K)\n",
        "print(*PS, sep='\\n')"
      ],
      "metadata": {
        "id": "maefUBql8VuH"
      },
      "execution_count": null,
      "outputs": []
    },
    {
      "cell_type": "code",
      "source": [
        "# 入力例2\n",
        "N, D, K = 7, 2, 3\n",
        "PS = [\n",
        "    [2, 2],\n",
        "    [1, 8],\n",
        "    [1, 10],\n",
        "    [1, 11],\n",
        "    [2, 23],\n",
        "    [2, 24],\n",
        "    [2, 25],\n",
        "]"
      ],
      "metadata": {
        "id": "7Ut-H1GFeC4Y"
      },
      "execution_count": null,
      "outputs": []
    },
    {
      "cell_type": "code",
      "source": [
        "# 入力例3\n",
        "N, D, K = 12, 153, 0\n",
        "PS = [\n",
        "    [1, 155],\n",
        "    [2, 861],\n",
        "    [1, 646],\n",
        "    [1, 218],\n",
        "    [2, 450],\n",
        "    [2, 56],\n",
        "    [1, 932],\n",
        "    [2, 295],\n",
        "    [2, 863],\n",
        "    [1, 612],\n",
        "    [2, 38],\n",
        "    [2, 768],\n",
        "]\n",
        "print(N,D,K)\n",
        "print(*PS, sep='\\n')"
      ],
      "metadata": {
        "id": "nxQA3IlbwuSe"
      },
      "execution_count": null,
      "outputs": []
    },
    {
      "cell_type": "code",
      "source": [
        "# 入力例4\n",
        "N, D, K = 15, 89, 104\n",
        "PS = [\n",
        "    [1, 4379],\n",
        "    [1, 738],\n",
        "    [1, 4862],\n",
        "    [1, 4236],\n",
        "    [2, 1416],\n",
        "    [1, 9905],\n",
        "    [1, 4775],\n",
        "    [2, 4574],\n",
        "    [2, 439],\n",
        "    [1, 3956],\n",
        "    [1, 955],\n",
        "    [2, 8862],\n",
        "    [2, 801],\n",
        "    [2, 2299],\n",
        "    [2, 575],\n",
        "]\n",
        "print(N,D,K)\n",
        "print(*PS, sep='\\n')"
      ],
      "metadata": {
        "id": "zGcZPnK3eZ9e"
      },
      "execution_count": null,
      "outputs": []
    }
  ]
}