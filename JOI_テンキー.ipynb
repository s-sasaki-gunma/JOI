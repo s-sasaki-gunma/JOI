{
  "nbformat": 4,
  "nbformat_minor": 0,
  "metadata": {
    "colab": {
      "provenance": [],
      "authorship_tag": "ABX9TyMBjEE574mpTwN0Tt5aAcWN",
      "include_colab_link": true
    },
    "kernelspec": {
      "name": "python3",
      "display_name": "Python 3"
    },
    "language_info": {
      "name": "python"
    }
  },
  "cells": [
    {
      "cell_type": "markdown",
      "metadata": {
        "id": "view-in-github",
        "colab_type": "text"
      },
      "source": [
        "<a href=\"https://colab.research.google.com/github/s-sasaki-gunma/JOI/blob/main/JOI_%E3%83%86%E3%83%B3%E3%82%AD%E3%83%BC.ipynb\" target=\"_parent\"><img src=\"https://colab.research.google.com/assets/colab-badge.svg\" alt=\"Open In Colab\"/></a>"
      ]
    },
    {
      "cell_type": "markdown",
      "source": [
        "# テンキー\n",
        "\n",
        "　第19回日本情報オリンピック　二次予選　問題4\n",
        "- [問題（AtCoder）](https://atcoder.jp/contests/joi2020yo2/tasks/joi2020_yo2_d)\n",
        "- [解説（JOI公式サイト）](https://www.ioi-jp.org/joi/2019/2020-yo2/index.html)\n",
        "\n"
      ],
      "metadata": {
        "id": "tx3UTb6y8kc-"
      }
    },
    {
      "cell_type": "markdown",
      "source": [
        "## 必要な知識\n",
        "- [幅優先探索](https://qiita.com/drken/items/996d80bcae64649a6580)"
      ],
      "metadata": {
        "id": "R0McH025TLAE"
      }
    },
    {
      "cell_type": "code",
      "execution_count": null,
      "metadata": {
        "id": "-BJYmw-k8fqW"
      },
      "outputs": [],
      "source": [
        "from collections import deque\n",
        "M,R = map(int, input().split())\n",
        "\n",
        "tenkey = [ [7,8,9], [4,5,6], [1,2,3], [0,-1,-1] ]\n",
        "dx = [1,0,-1,0]\n",
        "dy = [0,1,0,-1]\n",
        "\n",
        "INF = 1<<29\n",
        "dist = [[[INF] * M for x in range(3)] for y in range(4) ]\n",
        "vist = [[[False] * M for x in range(3)] for y in range(4) ]\n",
        "\n",
        "q = deque()\n",
        "q.append([3, 0, 0])\n",
        "dist[3][0][0] = 0\n",
        "\n",
        "while  q :\n",
        "    v = q.popleft()\n",
        "    y = v[0]\n",
        "    x = v[1]\n",
        "    m1 = v[2]\n",
        "\n",
        "    for d in range(4):\n",
        "        xx = x + dx[d]\n",
        "        yy = y + dy[d]\n",
        "        if 0 <= xx and xx < 3 and 0 <= yy and yy < 4 and tenkey[yy][xx] != -1 :\n",
        "            dist[yy][xx][m1] = min( dist[yy][xx][m1] , dist[y][x][m1] + 1 )\n",
        "            if not(vist[yy][xx][m1]) :\n",
        "                vist[yy][xx][m1] = True\n",
        "                q.append([yy, xx, m1])\n",
        "\n",
        "    m2 = ( m1 * 10 + tenkey[y][x] ) % M\n",
        "    dist[y][x][m2] = min( dist[y][x][m2] , dist[y][x][m1] + 1 )\n",
        "    if not(vist[y][x][m2]) :\n",
        "        vist[y][x][m2] = True\n",
        "        q.append([y, x, m2])\n",
        "\n",
        "ans = INF\n",
        "for y in range(4):\n",
        "    for x in range(3):\n",
        "        ans = min(ans, dist[y][x][R])\n",
        "print(ans)"
      ]
    }
  ]
}