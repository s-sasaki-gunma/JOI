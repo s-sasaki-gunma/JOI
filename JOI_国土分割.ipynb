{
  "nbformat": 4,
  "nbformat_minor": 0,
  "metadata": {
    "colab": {
      "provenance": [],
      "authorship_tag": "ABX9TyOBYbIyTANwtHg9cP+MTkQG",
      "include_colab_link": true
    },
    "kernelspec": {
      "name": "python3",
      "display_name": "Python 3"
    },
    "language_info": {
      "name": "python"
    }
  },
  "cells": [
    {
      "cell_type": "markdown",
      "metadata": {
        "id": "view-in-github",
        "colab_type": "text"
      },
      "source": [
        "<a href=\"https://colab.research.google.com/github/s-sasaki-gunma/JOI/blob/main/JOI_%E5%9B%BD%E5%9C%9F%E5%88%86%E5%89%B2.ipynb\" target=\"_parent\"><img src=\"https://colab.research.google.com/assets/colab-badge.svg\" alt=\"Open In Colab\"/></a>"
      ]
    },
    {
      "cell_type": "markdown",
      "source": [
        "# 国土分割\n",
        "\n",
        "　第21回日本情報オリンピック　二次予選　問題３\n",
        "\n",
        "- <a href=\"https://atcoder.jp/contests/joi2022yo2/tasks/joi2022_yo2_c\" target=\"_blank\">問題（AtCoder）</a>\n",
        "- <a href=\"https://www.ioi-jp.org/joi/2021/2022-yo2/index.html\" target=\"_blank\">解説（JOI公式サイト）</a>"
      ],
      "metadata": {
        "id": "WWnG4vtU7Oyu"
      }
    },
    {
      "cell_type": "markdown",
      "source": [
        "## 必要な知識\n",
        "- リストの基本文法\n",
        "- リスト内包表記（<a href=\"https://note.nkmk.me/python-list-comprehension/\" target=\"_blank\"> 参考 </a>）\n",
        "- map関数（<a href=\"https://qiita.com/kyuna/items/8ee8916c2f4e36321a1c#5-%E8%A3%9C%E8%B6%B3\" target=\"_blank\"> 参考 </a>）\n",
        "- 二次元累積和（ <a href=\"https://swim-run.net/940/\" target=\"_blank\">Pythonコードの参考</a> , <a href=\"https://qiita.com/drken/items/56a6b68edef8fc605821\" target=\"_blank\">アルゴリズムの参考</a>）"
      ],
      "metadata": {
        "id": "C8ioZ7RDDtkK"
      }
    },
    {
      "cell_type": "markdown",
      "source": [
        "### 配列の基本文法\n",
        "- x[0]　　▶　配列 x の先頭の値のこと\n",
        "- x[-1]　　▶　配列 x の末尾の値のこと\n",
        "- S[H][W]　▶　二次元配列 S の上から H 段目かつ左から W 個目の値のこと\n",
        "- [0]*10　　▶　配列[0] を 10 個並べて結合した配列"
      ],
      "metadata": {
        "id": "LO3nKRirVMq2"
      }
    },
    {
      "cell_type": "code",
      "source": [
        "x = [1,10,100,1000,10000]\n",
        "print(x[0])\n",
        "print(x[-1])\n",
        "print([0] * 10)"
      ],
      "metadata": {
        "id": "D1QUbeJkXfCr"
      },
      "execution_count": null,
      "outputs": []
    },
    {
      "cell_type": "markdown",
      "source": [
        "### リスト内包表記について\n",
        "- 既存のリストから新しいリストを生成する書き方の１つ\n",
        "- 一行で記述でき、高速に処理される"
      ],
      "metadata": {
        "id": "MWW6CoQMLjPj"
      }
    },
    {
      "cell_type": "code",
      "source": [
        "# append()による２次元配列の生成（低速）\n",
        "x = []\n",
        "for i in range(10):\n",
        "    t = []\n",
        "    for j in range(10):\n",
        "        t.append(0)\n",
        "    x.append(t)\n",
        "print(*x,sep=\"\\n\",)"
      ],
      "metadata": {
        "id": "Ii4hKqZ0JYzP"
      },
      "execution_count": null,
      "outputs": []
    },
    {
      "cell_type": "code",
      "source": [
        "# リスト内包表記による２次元配列の生成（高速）\n",
        "x = [[0]*10 for i in range(10)]\n",
        "print(*x,sep=\"\\n\",)"
      ],
      "metadata": {
        "id": "cfqXpVb0ITmu"
      },
      "execution_count": null,
      "outputs": []
    },
    {
      "cell_type": "markdown",
      "source": [
        "### map関数について\n",
        "\n",
        "　map() は、リストのすべての値に値に対して関数を適用する組み込み関数"
      ],
      "metadata": {
        "id": "-Xm3iQvzNQI7"
      }
    },
    {
      "cell_type": "code",
      "source": [
        "# forループによる小数配列の生成（低速）\n",
        "x = list(range(10))\n",
        "for i in range(len(x)):\n",
        "    x[i] = float(x[i])\n",
        "print(x)"
      ],
      "metadata": {
        "id": "VW1n7lygPa5x"
      },
      "execution_count": null,
      "outputs": []
    },
    {
      "cell_type": "code",
      "source": [
        "# map関数による小数配列の生成（高速）\n",
        "x = list(map(float,range(10)))\n",
        "print(x)"
      ],
      "metadata": {
        "id": "YcrbpdUaN1oK"
      },
      "execution_count": null,
      "outputs": []
    },
    {
      "cell_type": "markdown",
      "source": [
        "# 模範解答"
      ],
      "metadata": {
        "id": "G_hdu6G3DurJ"
      }
    },
    {
      "cell_type": "code",
      "execution_count": null,
      "metadata": {
        "id": "KaaDBrbL7E76"
      },
      "outputs": [],
      "source": [
        "# 累積和から部分和を求める関数\n",
        "def calc_sum(x1, y1, x2, y2):\n",
        "    return S[x2 + 1][y2 + 1] + S[x1][y1] - S[x1][y2 + 1] - S[x2 + 1][y1]\n",
        "\n",
        "H, W = map(int, input().split())                            # 国土の縦幅・横幅を入力\n",
        "A = [list(map(int, input().split())) for i in range(H)]     # 国土の人口分布の行列の入力\n",
        "\n",
        "S = [[0]*(W+1) for i in range(H+1)]    # 二次元累積和用の行列を0で初期化\n",
        "ans = 0                                # 国土の等分割方法が何通りあるか数える変数\n",
        "\n",
        "# 入力された行列を二次元累積和用の行列にコピー\n",
        "for i in range(H):\n",
        "    for j in range(W):\n",
        "        S[i+1][j+1] = S[i][j+1]+A[i][j]\n",
        "\n",
        "# 二次元累積和を計算\n",
        "for i in range(H):\n",
        "    for j in range(W):\n",
        "        S[i+1][j+1] += S[i+1][j]\n",
        "\n",
        "# 国土の等分割方法が何通りあるか数えるループ\n",
        "for i in range(H):\n",
        "    for j in range(W):\n",
        "        # 座標（0,0）から（i,j）の範囲の人口 s を求め、残された国土が s と等しくなるよう分割できるか判定している\n",
        "        s = calc_sum(0, 0, i, j)\n",
        "        h = [-1]\n",
        "        w = [-1]\n",
        "        # s から南側を確認していき、s と等しい人口で分割できた地点を配列 h に記録\n",
        "        for k in range(H):\n",
        "            if calc_sum(h[-1]+1, 0, k, j) == s:\n",
        "                h.append(k)\n",
        "        # s から東側を確認していき、s と等しい人口で分割できた地点を配列 w に記録\n",
        "        for k in range(W):\n",
        "            if calc_sum(0, w[-1]+1, i, k) == s:\n",
        "                w.append(k)\n",
        "        # 国土が分割しきれていなければ、continue で j ループを抜けて後ろの処理を省略\n",
        "        if h[-1] != H-1 or w[-1] != W-1:\n",
        "            continue\n",
        "        # ans を加算するフラグ f\n",
        "        f = True\n",
        "        # 座標（i,j）から東南の国土を配列 h と w で分割し、１箇所でも s と異なる人口の場所があればフラグを折る\n",
        "        for k in range(len(h)-1):\n",
        "            for l in range(len(w)-1):\n",
        "                if calc_sum(h[k]+1, w[l]+1, h[k+1], w[l+1]) != s:\n",
        "                    f = False\n",
        "        if f:\n",
        "            ans += 1\n",
        "print(ans-1)"
      ]
    }
  ]
}