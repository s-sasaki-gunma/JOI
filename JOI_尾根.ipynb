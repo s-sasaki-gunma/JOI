{
  "nbformat": 4,
  "nbformat_minor": 0,
  "metadata": {
    "colab": {
      "provenance": [],
      "authorship_tag": "ABX9TyNSvbMxUHKbMFBm9UtkiQCF",
      "include_colab_link": true
    },
    "kernelspec": {
      "name": "python3",
      "display_name": "Python 3"
    },
    "language_info": {
      "name": "python"
    }
  },
  "cells": [
    {
      "cell_type": "markdown",
      "metadata": {
        "id": "view-in-github",
        "colab_type": "text"
      },
      "source": [
        "<a href=\"https://colab.research.google.com/github/s-sasaki-gunma/JOI/blob/main/JOI_%E5%B0%BE%E6%A0%B9.ipynb\" target=\"_parent\"><img src=\"https://colab.research.google.com/assets/colab-badge.svg\" alt=\"Open In Colab\"/></a>"
      ]
    },
    {
      "cell_type": "markdown",
      "source": [
        "# 尾根 (Ridge)\n",
        "\n",
        "　第16回日本情報オリンピック　予選　問題5\n",
        "\n",
        "- <a href=\"https://atcoder.jp/contests/joi2017yo/tasks/joi2017yo_e\" target=\"_blank\">問題（AtCoder）</a>\n",
        "- <a href=\"https://www.ioi-jp.org/joi/2016/2017-yo/index.html\" target=\"_blank\">解説（JOI公式サイト）</a>"
      ],
      "metadata": {
        "id": "hq8Vnr6fYSkj"
      }
    },
    {
      "cell_type": "code",
      "execution_count": null,
      "metadata": {
        "id": "0f2tRSIEGtWZ"
      },
      "outputs": [],
      "source": [
        "H,W = map( int, input().split() )\n",
        "INF=2<<29\n",
        "MAP = [[INF]*(W+2)]\n",
        "for h in range(H):\n",
        "    t = [INF]\n",
        "    t.extend(list(map(int,input().split())))\n",
        "    t.append(INF)\n",
        "    MAP.append(t)\n",
        "MAP.append([INF]*(W+2))\n",
        "\n",
        "tmp = [[0]*(W+2) for _ in range(H+2)]\n",
        "x = [0]*((H+2)*(W+2))\n",
        "y = [0]*((H+2)*(W+2))\n",
        "for h in range(1,H+1):\n",
        "    for w in range(1,W+1):\n",
        "        x[MAP[h][w]] = h\n",
        "        y[MAP[h][w]] = w\n",
        "dx = [1,0,-1,0]\n",
        "dy = [0,1,0,-1]\n",
        "\n",
        "ans = 0\n",
        "for i in range(H*W+1):\n",
        "    r = 0\n",
        "    for j in range(4):\n",
        "        tx = x[i] + dx[j]\n",
        "        ty = y[i] + dy[j]\n",
        "        if MAP[tx][ty] < i :\n",
        "            if r == 0:\n",
        "                r = tmp[tx][ty]\n",
        "            elif r != tmp[tx][ty] :\n",
        "                r = -1\n",
        "    if r == 0 :\n",
        "        tmp[x[i]][y[i]] = i\n",
        "    else :\n",
        "        tmp[x[i]][y[i]] = r\n",
        "    if r == -1 :\n",
        "        ans += 1\n",
        "\n",
        "print(ans)"
      ]
    }
  ]
}