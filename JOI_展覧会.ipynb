{
  "nbformat": 4,
  "nbformat_minor": 0,
  "metadata": {
    "colab": {
      "provenance": [],
      "authorship_tag": "ABX9TyMZdlkfKSEXEmbAZ5IUCj1X",
      "include_colab_link": true
    },
    "kernelspec": {
      "name": "python3",
      "display_name": "Python 3"
    },
    "language_info": {
      "name": "python"
    }
  },
  "cells": [
    {
      "cell_type": "markdown",
      "metadata": {
        "id": "view-in-github",
        "colab_type": "text"
      },
      "source": [
        "<a href=\"https://colab.research.google.com/github/s-sasaki-gunma/JOI/blob/main/JOI_%E5%B1%95%E8%A6%A7%E4%BC%9A.ipynb\" target=\"_parent\"><img src=\"https://colab.research.google.com/assets/colab-badge.svg\" alt=\"Open In Colab\"/></a>"
      ]
    },
    {
      "cell_type": "markdown",
      "source": [
        "# 展覧会 (Exhibition)\n",
        "\n",
        "　第18回日本情報オリンピック　本選　問題2\n",
        "\n",
        "- <a href=\"https://atcoder.jp/contests/joi2019ho/tasks/joi2019ho_b\" target=\"_blank\">問題（AtCoder）</a>\n",
        "- <a href=\"https://www.ioi-jp.org/joi/2018/2019-ho/\" target=\"_blank\">解説（JOI公式サイト）</a>"
      ],
      "metadata": {
        "id": "DooS3t_UxeN1"
      }
    },
    {
      "cell_type": "markdown",
      "source": [
        "## 必要な知識\n",
        "\n",
        "- 配列の基本操作（多次元配列のソート）\n",
        "\n",
        "　多次元配列のsort()は何も指定しなければ、各行の0列目の値同士を比較して並び替える。  \n",
        "　次のような文法で「key」に列番号を指定することで、指定した列の値で並び替えることが可能。\n",
        "\n",
        "```python\n",
        "    配列.sort( key=lambda x : x[ 列番号 ] )\n",
        "```"
      ],
      "metadata": {
        "id": "32SAS-GHXlSn"
      }
    },
    {
      "cell_type": "markdown",
      "source": [
        "## この問題の考え方\n",
        "\n",
        "　額縁がサイズ順になっていれば良いので、中身の絵のサイズは額縁にさえ納まれば大きさが前後しても問題ない\n",
        "\n",
        "　すなわち、額縁を並べ替えた後に、価値の高い絵画から順に納めれば良い"
      ],
      "metadata": {
        "id": "h9T0JF-Gb7hm"
      }
    },
    {
      "cell_type": "markdown",
      "source": [
        "# 模範解答"
      ],
      "metadata": {
        "id": "kiSS9MdOdYa9"
      }
    },
    {
      "cell_type": "code",
      "execution_count": null,
      "metadata": {
        "colab": {
          "base_uri": "https://localhost:8080/"
        },
        "id": "U9QXKrdgxcVI",
        "outputId": "748b4d8e-1027-4ff9-d541-cf24c9985b08"
      },
      "outputs": [
        {
          "output_type": "stream",
          "name": "stdout",
          "text": [
            "3\n"
          ]
        }
      ],
      "source": [
        "N,M = map(int, input().split())\n",
        "SV = []\n",
        "for i in range(N):\n",
        "    SV.append( list(map(int, input().split())) )\n",
        "C = []\n",
        "for i in range(M):\n",
        "    C.append( int(input()) )\n",
        "SV.sort(key=lambda x: x[1])\n",
        "C.sort()\n",
        "ans = 0\n",
        "for i in range(N-1,0,-1):\n",
        "    if C[M - ans - 1] >= SV[i][0]:\n",
        "        ans += 1\n",
        "        if ans >= M :\n",
        "            break\n",
        "print(ans)"
      ]
    },
    {
      "cell_type": "code",
      "source": [
        "# 入力例\n",
        "N, M = 8, 8\n",
        "SV = [\n",
        "    [508917604, 35617051],\n",
        "    [501958939, 840246141],\n",
        "    [485338402, 32896484],\n",
        "    [957730250, 357542366],\n",
        "    [904165504, 137209882],\n",
        "    [684085683, 775621730],\n",
        "    [552953629, 20004459],\n",
        "    [125090903, 607302990],\n",
        "]\n",
        "C = [\n",
        "    433255278,\n",
        "    979756183,\n",
        "    28423637,\n",
        "    856448848,\n",
        "    276518245,\n",
        "    314201319,\n",
        "    666094038,\n",
        "    149542543,\n",
        "]\n",
        "print(*SV, sep='\\n')\n",
        "print(C)"
      ],
      "metadata": {
        "id": "Vuf2OWLoyojV"
      },
      "execution_count": null,
      "outputs": []
    }
  ]
}